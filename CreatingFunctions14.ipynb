{
 "cells": [
  {
   "cell_type": "code",
   "execution_count": 3,
   "id": "16d523e4-0168-4bbf-8944-63633a307d45",
   "metadata": {},
   "outputs": [
    {
     "name": "stdout",
     "output_type": "stream",
     "text": [
      "Hello world\n"
     ]
    }
   ],
   "source": [
    "#def hello():\n",
    "   # print('Hello world')\n",
    "    \n",
    "#hello()                 ### Function with no argument and no return value."
   ]
  },
  {
   "cell_type": "code",
   "execution_count": 11,
   "id": "69caa35a-83c4-4fdd-b634-92c53d1317c6",
   "metadata": {},
   "outputs": [
    {
     "name": "stdout",
     "output_type": "stream",
     "text": [
      "65\n"
     ]
    }
   ],
   "source": [
    "### Argument with no return value.\n",
    "\n",
    "#def foo(a, b):\n",
    "   # print(a+b)\n",
    "#foo(20, 45)"
   ]
  },
  {
   "cell_type": "code",
   "execution_count": 12,
   "id": "97d534b5-59fe-4eda-89d4-6e9c01a221f2",
   "metadata": {},
   "outputs": [
    {
     "data": {
      "text/plain": [
       "314.0"
      ]
     },
     "execution_count": 12,
     "metadata": {},
     "output_type": "execute_result"
    }
   ],
   "source": [
    "### Argument with return value.\n",
    "\n",
    "#def foo(r):\n",
    "   # a = 3.14 * r**2\n",
    "    \n",
    "    #return a\n",
    "#foo(10)\n"
   ]
  },
  {
   "cell_type": "code",
   "execution_count": 18,
   "id": "b3d0eca4-4310-4c78-a6c1-8d99b50b06ca",
   "metadata": {},
   "outputs": [],
   "source": [
    "def isprime(n):\n",
    "    i = 2\n",
    "    \n",
    "    while i < n//2:\n",
    "        \n",
    "        if n%i == 0:\n",
    "            return False\n",
    "            \n",
    "            i += 1\n",
    "        \n",
    "        else:\n",
    "            return True\n",
    "        \n",
    "        if isprime(17):\n",
    "            print('Prime numbers')\n",
    "        else: \n",
    "            print('Prime numbers')\n",
    "        \n",
    "        "
   ]
  },
  {
   "cell_type": "code",
   "execution_count": 22,
   "id": "90e1dabf-cb00-4189-b601-b8c5613003ae",
   "metadata": {},
   "outputs": [],
   "source": [
    "#def foo(a, b):      ### Positional Arguments.\n",
    "   # print(a+b)\n",
    "   # print(a-b)\n",
    "    \n",
    "#foo(23, 10)\n",
    "\n",
    "#foo(10, 23)"
   ]
  },
  {
   "cell_type": "code",
   "execution_count": 25,
   "id": "b511219c-a4d2-401e-96de-a2c1baa73a48",
   "metadata": {},
   "outputs": [
    {
     "name": "stdout",
     "output_type": "stream",
     "text": [
      "46\n",
      "3\n"
     ]
    }
   ],
   "source": [
    "#def foo(a, b = 34):\n",
    "    #print(a+b)\n",
    "\n",
    "#foo(12) ### 12 will be assigned to variable a.\n",
    "#foo(1, 2)"
   ]
  },
  {
   "cell_type": "code",
   "execution_count": 33,
   "id": "48969309-c50b-47df-b64e-c511ad50881e",
   "metadata": {},
   "outputs": [
    {
     "name": "stdout",
     "output_type": "stream",
     "text": [
      "0\n"
     ]
    }
   ],
   "source": [
    "#def foo(a, b):\n",
    "   # print(a-b)\n",
    "    \n",
    "\n",
    "#foo(a = 2, b = 2)"
   ]
  },
  {
   "cell_type": "code",
   "execution_count": 37,
   "id": "c911dc29-ebea-4668-82d4-6c8e545329b9",
   "metadata": {},
   "outputs": [
    {
     "name": "stdout",
     "output_type": "stream",
     "text": [
      "()\n",
      "<class 'tuple'>\n",
      "(2, 3, 4, 5)\n",
      "<class 'tuple'>\n",
      "(1, 2, 3, 4, 5)\n",
      "<class 'tuple'>\n",
      "(2, 1)\n",
      "<class 'tuple'>\n"
     ]
    }
   ],
   "source": [
    "#def foo(*n):\n",
    "   # print(n)\n",
    "   # print(type(n))\n",
    "    \n",
    "#foo()\n",
    "#foo(2,3,4,5)\n",
    "#foo(1,2,3,4,5)\n",
    "\n",
    "#foo(2,1)"
   ]
  },
  {
   "cell_type": "code",
   "execution_count": null,
   "id": "9d72339e-948c-4406-9274-69abc3b99e13",
   "metadata": {},
   "outputs": [],
   "source": []
  },
  {
   "cell_type": "code",
   "execution_count": 39,
   "id": "f2f07ea4-922e-4346-90bd-9e1a68fc74da",
   "metadata": {},
   "outputs": [
    {
     "name": "stdout",
     "output_type": "stream",
     "text": [
      "1000\n",
      "343\n"
     ]
    }
   ],
   "source": [
    "a = 343 ## Global Variable - Its like you have a refrigerator and someone is checking the refrigerator.\n",
    "\n",
    "def foo():\n",
    "    \n",
    "    a = 1000\n",
    "    \n",
    "    print(a)\n",
    "    \n",
    "foo()\n",
    "\n",
    "print(a)"
   ]
  },
  {
   "cell_type": "code",
   "execution_count": null,
   "id": "13aea627-4547-4f12-a89c-0c429c04d25d",
   "metadata": {},
   "outputs": [],
   "source": []
  }
 ],
 "metadata": {
  "kernelspec": {
   "display_name": "anaconda-2022.05-py39",
   "language": "python",
   "name": "conda-env-anaconda-2022.05-py39-py"
  },
  "language_info": {
   "codemirror_mode": {
    "name": "ipython",
    "version": 3
   },
   "file_extension": ".py",
   "mimetype": "text/x-python",
   "name": "python",
   "nbconvert_exporter": "python",
   "pygments_lexer": "ipython3",
   "version": "3.9.12"
  }
 },
 "nbformat": 4,
 "nbformat_minor": 5
}
